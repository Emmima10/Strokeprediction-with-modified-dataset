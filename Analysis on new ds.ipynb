{
 "cells": [
  {
   "cell_type": "code",
   "execution_count": 1,
   "metadata": {},
   "outputs": [],
   "source": [
    "import pandas as pd\n",
    "import numpy as np\n",
    "import matplotlib.pyplot as plt\n",
    "from sklearn.preprocessing import LabelEncoder, StandardScaler\n",
    "from imblearn.over_sampling import SMOTE\n",
    "from sklearn.model_selection import train_test_split\n",
    "from sklearn.svm import SVC\n",
    "from sklearn.naive_bayes import GaussianNB\n",
    "from sklearn.linear_model import LogisticRegression\n",
    "from sklearn.tree import DecisionTreeClassifier\n",
    "from sklearn.ensemble import RandomForestClassifier\n",
    "#from lightgbm import LGBMClassifier\n",
    "from xgboost import XGBClassifier\n",
    "from sklearn.metrics import classification_report,accuracy_score,confusion_matrix\n",
    "from sklearn.metrics import auc,roc_auc_score,roc_curve,precision_score,recall_score,f1_score\n",
    "import time as timer\n",
    "from sklearn.inspection import permutation_importance"
   ]
  },
  {
   "cell_type": "code",
   "execution_count": 2,
   "metadata": {},
   "outputs": [],
   "source": [
    "import glob\n",
    "import tensorflow as tf\n",
    "from keras.models import Sequential, load_model\n",
    "import numpy as np\n",
    "import pandas as pd\n",
    "from keras.layers import Dense\n",
    "from sklearn.model_selection import train_test_split\n",
    "from sklearn.preprocessing import LabelEncoder, MinMaxScaler\n",
    "import matplotlib.pyplot as plt\n",
    "import keras as k"
   ]
  },
  {
   "cell_type": "code",
   "execution_count": 3,
   "metadata": {},
   "outputs": [
    {
     "name": "stdout",
     "output_type": "stream",
     "text": [
      "     gft  gender   age  hypertension  alcohol_intake  heart_disease ever_married      work_type Residence_type  avg_glucose_level   bmi   smoking_status  stroke  systotic bp\n",
      "0   9046    Male  67.0           147             2.0              1          Yes        Private          Urban             228.69  36.6  formerly smoked       1        147.0\n",
      "1  51676  Female  61.0           135             4.0              0          Yes  Self-employed          Rural             202.21   NaN     never smoked       1        135.0\n",
      "2  31112    Male  80.0           115             3.0              1          Yes        Private          Rural             105.92  32.5     never smoked       1        115.0\n",
      "3  60182  Female  49.0           125             2.0              0          Yes        Private          Urban             171.23  34.4           smokes       1        125.0\n",
      "4   1665  Female  79.0           130             3.0              0          Yes  Self-employed          Rural             174.12  24.0     never smoked       1        130.0\n",
      "Data shape: (3000, 14)\n"
     ]
    }
   ],
   "source": [
    "# import package\n",
    "# open dataset\n",
    "filename = \"nds - stroke.csv\"\n",
    "data = pd.read_csv(filename)\n",
    "with pd.option_context('expand_frame_repr', False):\n",
    "    print(data.head())\n",
    "print(\"Data shape: {}\".format(data.shape))"
   ]
  },
  {
   "cell_type": "code",
   "execution_count": 4,
   "metadata": {},
   "outputs": [
    {
     "data": {
      "text/html": [
       "<div>\n",
       "<style scoped>\n",
       "    .dataframe tbody tr th:only-of-type {\n",
       "        vertical-align: middle;\n",
       "    }\n",
       "\n",
       "    .dataframe tbody tr th {\n",
       "        vertical-align: top;\n",
       "    }\n",
       "\n",
       "    .dataframe thead th {\n",
       "        text-align: right;\n",
       "    }\n",
       "</style>\n",
       "<table border=\"1\" class=\"dataframe\">\n",
       "  <thead>\n",
       "    <tr style=\"text-align: right;\">\n",
       "      <th></th>\n",
       "      <th>gft</th>\n",
       "      <th>age</th>\n",
       "      <th>hypertension</th>\n",
       "      <th>alcohol_intake</th>\n",
       "      <th>heart_disease</th>\n",
       "      <th>avg_glucose_level</th>\n",
       "      <th>bmi</th>\n",
       "      <th>stroke</th>\n",
       "      <th>systotic bp</th>\n",
       "    </tr>\n",
       "  </thead>\n",
       "  <tbody>\n",
       "    <tr>\n",
       "      <td>count</td>\n",
       "      <td>3000.000000</td>\n",
       "      <td>3000.000000</td>\n",
       "      <td>3000.000000</td>\n",
       "      <td>2942.000000</td>\n",
       "      <td>3000.000000</td>\n",
       "      <td>3000.000000</td>\n",
       "      <td>2861.000000</td>\n",
       "      <td>3000.000000</td>\n",
       "      <td>100.000000</td>\n",
       "    </tr>\n",
       "    <tr>\n",
       "      <td>mean</td>\n",
       "      <td>36247.929667</td>\n",
       "      <td>44.404907</td>\n",
       "      <td>122.075667</td>\n",
       "      <td>1.563222</td>\n",
       "      <td>0.064333</td>\n",
       "      <td>108.026173</td>\n",
       "      <td>29.102656</td>\n",
       "      <td>0.083000</td>\n",
       "      <td>133.940000</td>\n",
       "    </tr>\n",
       "    <tr>\n",
       "      <td>std</td>\n",
       "      <td>21108.583152</td>\n",
       "      <td>22.703023</td>\n",
       "      <td>17.922770</td>\n",
       "      <td>1.222833</td>\n",
       "      <td>0.245387</td>\n",
       "      <td>46.588268</td>\n",
       "      <td>7.925436</td>\n",
       "      <td>0.275928</td>\n",
       "      <td>11.871211</td>\n",
       "    </tr>\n",
       "    <tr>\n",
       "      <td>min</td>\n",
       "      <td>77.000000</td>\n",
       "      <td>0.080000</td>\n",
       "      <td>13.000000</td>\n",
       "      <td>0.000000</td>\n",
       "      <td>0.000000</td>\n",
       "      <td>55.220000</td>\n",
       "      <td>10.300000</td>\n",
       "      <td>0.000000</td>\n",
       "      <td>111.000000</td>\n",
       "    </tr>\n",
       "    <tr>\n",
       "      <td>25%</td>\n",
       "      <td>17386.250000</td>\n",
       "      <td>26.000000</td>\n",
       "      <td>113.000000</td>\n",
       "      <td>1.000000</td>\n",
       "      <td>0.000000</td>\n",
       "      <td>77.802500</td>\n",
       "      <td>23.600000</td>\n",
       "      <td>0.000000</td>\n",
       "      <td>125.000000</td>\n",
       "    </tr>\n",
       "    <tr>\n",
       "      <td>50%</td>\n",
       "      <td>36346.500000</td>\n",
       "      <td>47.000000</td>\n",
       "      <td>124.000000</td>\n",
       "      <td>1.000000</td>\n",
       "      <td>0.000000</td>\n",
       "      <td>93.045000</td>\n",
       "      <td>28.200000</td>\n",
       "      <td>0.000000</td>\n",
       "      <td>134.500000</td>\n",
       "    </tr>\n",
       "    <tr>\n",
       "      <td>75%</td>\n",
       "      <td>54543.250000</td>\n",
       "      <td>62.000000</td>\n",
       "      <td>135.000000</td>\n",
       "      <td>2.000000</td>\n",
       "      <td>0.000000</td>\n",
       "      <td>116.055000</td>\n",
       "      <td>33.300000</td>\n",
       "      <td>0.000000</td>\n",
       "      <td>145.000000</td>\n",
       "    </tr>\n",
       "    <tr>\n",
       "      <td>max</td>\n",
       "      <td>72918.000000</td>\n",
       "      <td>82.000000</td>\n",
       "      <td>169.000000</td>\n",
       "      <td>6.000000</td>\n",
       "      <td>1.000000</td>\n",
       "      <td>271.740000</td>\n",
       "      <td>97.600000</td>\n",
       "      <td>1.000000</td>\n",
       "      <td>160.000000</td>\n",
       "    </tr>\n",
       "  </tbody>\n",
       "</table>\n",
       "</div>"
      ],
      "text/plain": [
       "                gft          age  hypertension  alcohol_intake  heart_disease  \\\n",
       "count   3000.000000  3000.000000   3000.000000     2942.000000    3000.000000   \n",
       "mean   36247.929667    44.404907    122.075667        1.563222       0.064333   \n",
       "std    21108.583152    22.703023     17.922770        1.222833       0.245387   \n",
       "min       77.000000     0.080000     13.000000        0.000000       0.000000   \n",
       "25%    17386.250000    26.000000    113.000000        1.000000       0.000000   \n",
       "50%    36346.500000    47.000000    124.000000        1.000000       0.000000   \n",
       "75%    54543.250000    62.000000    135.000000        2.000000       0.000000   \n",
       "max    72918.000000    82.000000    169.000000        6.000000       1.000000   \n",
       "\n",
       "       avg_glucose_level          bmi       stroke  systotic bp  \n",
       "count        3000.000000  2861.000000  3000.000000   100.000000  \n",
       "mean          108.026173    29.102656     0.083000   133.940000  \n",
       "std            46.588268     7.925436     0.275928    11.871211  \n",
       "min            55.220000    10.300000     0.000000   111.000000  \n",
       "25%            77.802500    23.600000     0.000000   125.000000  \n",
       "50%            93.045000    28.200000     0.000000   134.500000  \n",
       "75%           116.055000    33.300000     0.000000   145.000000  \n",
       "max           271.740000    97.600000     1.000000   160.000000  "
      ]
     },
     "execution_count": 4,
     "metadata": {},
     "output_type": "execute_result"
    }
   ],
   "source": [
    "data.describe()"
   ]
  },
  {
   "cell_type": "code",
   "execution_count": 5,
   "metadata": {},
   "outputs": [
    {
     "data": {
      "text/html": [
       "<div>\n",
       "<style scoped>\n",
       "    .dataframe tbody tr th:only-of-type {\n",
       "        vertical-align: middle;\n",
       "    }\n",
       "\n",
       "    .dataframe tbody tr th {\n",
       "        vertical-align: top;\n",
       "    }\n",
       "\n",
       "    .dataframe thead th {\n",
       "        text-align: right;\n",
       "    }\n",
       "</style>\n",
       "<table border=\"1\" class=\"dataframe\">\n",
       "  <thead>\n",
       "    <tr style=\"text-align: right;\">\n",
       "      <th></th>\n",
       "      <th>gft</th>\n",
       "      <th>gender</th>\n",
       "      <th>age</th>\n",
       "      <th>hypertension</th>\n",
       "      <th>alcohol_intake</th>\n",
       "      <th>heart_disease</th>\n",
       "      <th>ever_married</th>\n",
       "      <th>work_type</th>\n",
       "      <th>Residence_type</th>\n",
       "      <th>avg_glucose_level</th>\n",
       "      <th>bmi</th>\n",
       "      <th>smoking_status</th>\n",
       "      <th>stroke</th>\n",
       "    </tr>\n",
       "  </thead>\n",
       "  <tbody>\n",
       "    <tr>\n",
       "      <td>0</td>\n",
       "      <td>9046</td>\n",
       "      <td>Male</td>\n",
       "      <td>67.0</td>\n",
       "      <td>147</td>\n",
       "      <td>2.0</td>\n",
       "      <td>1</td>\n",
       "      <td>Yes</td>\n",
       "      <td>Private</td>\n",
       "      <td>Urban</td>\n",
       "      <td>228.69</td>\n",
       "      <td>36.6</td>\n",
       "      <td>formerly smoked</td>\n",
       "      <td>1</td>\n",
       "    </tr>\n",
       "    <tr>\n",
       "      <td>1</td>\n",
       "      <td>51676</td>\n",
       "      <td>Female</td>\n",
       "      <td>61.0</td>\n",
       "      <td>135</td>\n",
       "      <td>4.0</td>\n",
       "      <td>0</td>\n",
       "      <td>Yes</td>\n",
       "      <td>Self-employed</td>\n",
       "      <td>Rural</td>\n",
       "      <td>202.21</td>\n",
       "      <td>NaN</td>\n",
       "      <td>never smoked</td>\n",
       "      <td>1</td>\n",
       "    </tr>\n",
       "    <tr>\n",
       "      <td>2</td>\n",
       "      <td>31112</td>\n",
       "      <td>Male</td>\n",
       "      <td>80.0</td>\n",
       "      <td>115</td>\n",
       "      <td>3.0</td>\n",
       "      <td>1</td>\n",
       "      <td>Yes</td>\n",
       "      <td>Private</td>\n",
       "      <td>Rural</td>\n",
       "      <td>105.92</td>\n",
       "      <td>32.5</td>\n",
       "      <td>never smoked</td>\n",
       "      <td>1</td>\n",
       "    </tr>\n",
       "    <tr>\n",
       "      <td>3</td>\n",
       "      <td>60182</td>\n",
       "      <td>Female</td>\n",
       "      <td>49.0</td>\n",
       "      <td>125</td>\n",
       "      <td>2.0</td>\n",
       "      <td>0</td>\n",
       "      <td>Yes</td>\n",
       "      <td>Private</td>\n",
       "      <td>Urban</td>\n",
       "      <td>171.23</td>\n",
       "      <td>34.4</td>\n",
       "      <td>smokes</td>\n",
       "      <td>1</td>\n",
       "    </tr>\n",
       "    <tr>\n",
       "      <td>4</td>\n",
       "      <td>1665</td>\n",
       "      <td>Female</td>\n",
       "      <td>79.0</td>\n",
       "      <td>130</td>\n",
       "      <td>3.0</td>\n",
       "      <td>0</td>\n",
       "      <td>Yes</td>\n",
       "      <td>Self-employed</td>\n",
       "      <td>Rural</td>\n",
       "      <td>174.12</td>\n",
       "      <td>24.0</td>\n",
       "      <td>never smoked</td>\n",
       "      <td>1</td>\n",
       "    </tr>\n",
       "    <tr>\n",
       "      <td>...</td>\n",
       "      <td>...</td>\n",
       "      <td>...</td>\n",
       "      <td>...</td>\n",
       "      <td>...</td>\n",
       "      <td>...</td>\n",
       "      <td>...</td>\n",
       "      <td>...</td>\n",
       "      <td>...</td>\n",
       "      <td>...</td>\n",
       "      <td>...</td>\n",
       "      <td>...</td>\n",
       "      <td>...</td>\n",
       "      <td>...</td>\n",
       "    </tr>\n",
       "    <tr>\n",
       "      <td>2995</td>\n",
       "      <td>4750</td>\n",
       "      <td>Male</td>\n",
       "      <td>78.0</td>\n",
       "      <td>148</td>\n",
       "      <td>0.0</td>\n",
       "      <td>0</td>\n",
       "      <td>Yes</td>\n",
       "      <td>Private</td>\n",
       "      <td>Urban</td>\n",
       "      <td>85.03</td>\n",
       "      <td>26.1</td>\n",
       "      <td>formerly smoked</td>\n",
       "      <td>0</td>\n",
       "    </tr>\n",
       "    <tr>\n",
       "      <td>2996</td>\n",
       "      <td>65127</td>\n",
       "      <td>Female</td>\n",
       "      <td>35.0</td>\n",
       "      <td>132</td>\n",
       "      <td>4.0</td>\n",
       "      <td>0</td>\n",
       "      <td>Yes</td>\n",
       "      <td>Private</td>\n",
       "      <td>Urban</td>\n",
       "      <td>80.76</td>\n",
       "      <td>28.8</td>\n",
       "      <td>smokes</td>\n",
       "      <td>0</td>\n",
       "    </tr>\n",
       "    <tr>\n",
       "      <td>2997</td>\n",
       "      <td>4498</td>\n",
       "      <td>Male</td>\n",
       "      <td>71.0</td>\n",
       "      <td>151</td>\n",
       "      <td>5.0</td>\n",
       "      <td>1</td>\n",
       "      <td>Yes</td>\n",
       "      <td>Private</td>\n",
       "      <td>Urban</td>\n",
       "      <td>204.98</td>\n",
       "      <td>NaN</td>\n",
       "      <td>formerly smoked</td>\n",
       "      <td>0</td>\n",
       "    </tr>\n",
       "    <tr>\n",
       "      <td>2998</td>\n",
       "      <td>32203</td>\n",
       "      <td>Female</td>\n",
       "      <td>57.0</td>\n",
       "      <td>140</td>\n",
       "      <td>2.0</td>\n",
       "      <td>0</td>\n",
       "      <td>Yes</td>\n",
       "      <td>Self-employed</td>\n",
       "      <td>Rural</td>\n",
       "      <td>95.36</td>\n",
       "      <td>32.4</td>\n",
       "      <td>formerly smoked</td>\n",
       "      <td>0</td>\n",
       "    </tr>\n",
       "    <tr>\n",
       "      <td>2999</td>\n",
       "      <td>27436</td>\n",
       "      <td>Male</td>\n",
       "      <td>12.0</td>\n",
       "      <td>97</td>\n",
       "      <td>0.0</td>\n",
       "      <td>0</td>\n",
       "      <td>No</td>\n",
       "      <td>children</td>\n",
       "      <td>Urban</td>\n",
       "      <td>110.33</td>\n",
       "      <td>20.4</td>\n",
       "      <td>Unknown</td>\n",
       "      <td>0</td>\n",
       "    </tr>\n",
       "  </tbody>\n",
       "</table>\n",
       "<p>3000 rows × 13 columns</p>\n",
       "</div>"
      ],
      "text/plain": [
       "        gft  gender   age  hypertension  alcohol_intake  heart_disease  \\\n",
       "0      9046    Male  67.0           147             2.0              1   \n",
       "1     51676  Female  61.0           135             4.0              0   \n",
       "2     31112    Male  80.0           115             3.0              1   \n",
       "3     60182  Female  49.0           125             2.0              0   \n",
       "4      1665  Female  79.0           130             3.0              0   \n",
       "...     ...     ...   ...           ...             ...            ...   \n",
       "2995   4750    Male  78.0           148             0.0              0   \n",
       "2996  65127  Female  35.0           132             4.0              0   \n",
       "2997   4498    Male  71.0           151             5.0              1   \n",
       "2998  32203  Female  57.0           140             2.0              0   \n",
       "2999  27436    Male  12.0            97             0.0              0   \n",
       "\n",
       "     ever_married      work_type Residence_type  avg_glucose_level   bmi  \\\n",
       "0             Yes        Private          Urban             228.69  36.6   \n",
       "1             Yes  Self-employed          Rural             202.21   NaN   \n",
       "2             Yes        Private          Rural             105.92  32.5   \n",
       "3             Yes        Private          Urban             171.23  34.4   \n",
       "4             Yes  Self-employed          Rural             174.12  24.0   \n",
       "...           ...            ...            ...                ...   ...   \n",
       "2995          Yes        Private          Urban              85.03  26.1   \n",
       "2996          Yes        Private          Urban              80.76  28.8   \n",
       "2997          Yes        Private          Urban             204.98   NaN   \n",
       "2998          Yes  Self-employed          Rural              95.36  32.4   \n",
       "2999           No       children          Urban             110.33  20.4   \n",
       "\n",
       "       smoking_status  stroke  \n",
       "0     formerly smoked       1  \n",
       "1        never smoked       1  \n",
       "2        never smoked       1  \n",
       "3              smokes       1  \n",
       "4        never smoked       1  \n",
       "...               ...     ...  \n",
       "2995  formerly smoked       0  \n",
       "2996           smokes       0  \n",
       "2997  formerly smoked       0  \n",
       "2998  formerly smoked       0  \n",
       "2999          Unknown       0  \n",
       "\n",
       "[3000 rows x 13 columns]"
      ]
     },
     "execution_count": 5,
     "metadata": {},
     "output_type": "execute_result"
    }
   ],
   "source": [
    "data.drop(['systotic bp'], axis = 1) "
   ]
  },
  {
   "cell_type": "code",
   "execution_count": 6,
   "metadata": {},
   "outputs": [
    {
     "data": {
      "text/html": [
       "<div>\n",
       "<style scoped>\n",
       "    .dataframe tbody tr th:only-of-type {\n",
       "        vertical-align: middle;\n",
       "    }\n",
       "\n",
       "    .dataframe tbody tr th {\n",
       "        vertical-align: top;\n",
       "    }\n",
       "\n",
       "    .dataframe thead th {\n",
       "        text-align: right;\n",
       "    }\n",
       "</style>\n",
       "<table border=\"1\" class=\"dataframe\">\n",
       "  <thead>\n",
       "    <tr style=\"text-align: right;\">\n",
       "      <th></th>\n",
       "      <th>gft</th>\n",
       "      <th>age</th>\n",
       "      <th>hypertension</th>\n",
       "      <th>alcohol_intake</th>\n",
       "      <th>heart_disease</th>\n",
       "      <th>avg_glucose_level</th>\n",
       "      <th>bmi</th>\n",
       "      <th>stroke</th>\n",
       "      <th>systotic bp</th>\n",
       "    </tr>\n",
       "  </thead>\n",
       "  <tbody>\n",
       "    <tr>\n",
       "      <td>count</td>\n",
       "      <td>3000.000000</td>\n",
       "      <td>3000.000000</td>\n",
       "      <td>3000.000000</td>\n",
       "      <td>2942.000000</td>\n",
       "      <td>3000.000000</td>\n",
       "      <td>3000.000000</td>\n",
       "      <td>2861.000000</td>\n",
       "      <td>3000.000000</td>\n",
       "      <td>100.000000</td>\n",
       "    </tr>\n",
       "    <tr>\n",
       "      <td>mean</td>\n",
       "      <td>36247.929667</td>\n",
       "      <td>44.404907</td>\n",
       "      <td>122.075667</td>\n",
       "      <td>1.563222</td>\n",
       "      <td>0.064333</td>\n",
       "      <td>108.026173</td>\n",
       "      <td>29.102656</td>\n",
       "      <td>0.083000</td>\n",
       "      <td>133.940000</td>\n",
       "    </tr>\n",
       "    <tr>\n",
       "      <td>std</td>\n",
       "      <td>21108.583152</td>\n",
       "      <td>22.703023</td>\n",
       "      <td>17.922770</td>\n",
       "      <td>1.222833</td>\n",
       "      <td>0.245387</td>\n",
       "      <td>46.588268</td>\n",
       "      <td>7.925436</td>\n",
       "      <td>0.275928</td>\n",
       "      <td>11.871211</td>\n",
       "    </tr>\n",
       "    <tr>\n",
       "      <td>min</td>\n",
       "      <td>77.000000</td>\n",
       "      <td>0.080000</td>\n",
       "      <td>13.000000</td>\n",
       "      <td>0.000000</td>\n",
       "      <td>0.000000</td>\n",
       "      <td>55.220000</td>\n",
       "      <td>10.300000</td>\n",
       "      <td>0.000000</td>\n",
       "      <td>111.000000</td>\n",
       "    </tr>\n",
       "    <tr>\n",
       "      <td>25%</td>\n",
       "      <td>17386.250000</td>\n",
       "      <td>26.000000</td>\n",
       "      <td>113.000000</td>\n",
       "      <td>1.000000</td>\n",
       "      <td>0.000000</td>\n",
       "      <td>77.802500</td>\n",
       "      <td>23.600000</td>\n",
       "      <td>0.000000</td>\n",
       "      <td>125.000000</td>\n",
       "    </tr>\n",
       "    <tr>\n",
       "      <td>50%</td>\n",
       "      <td>36346.500000</td>\n",
       "      <td>47.000000</td>\n",
       "      <td>124.000000</td>\n",
       "      <td>1.000000</td>\n",
       "      <td>0.000000</td>\n",
       "      <td>93.045000</td>\n",
       "      <td>28.200000</td>\n",
       "      <td>0.000000</td>\n",
       "      <td>134.500000</td>\n",
       "    </tr>\n",
       "    <tr>\n",
       "      <td>75%</td>\n",
       "      <td>54543.250000</td>\n",
       "      <td>62.000000</td>\n",
       "      <td>135.000000</td>\n",
       "      <td>2.000000</td>\n",
       "      <td>0.000000</td>\n",
       "      <td>116.055000</td>\n",
       "      <td>33.300000</td>\n",
       "      <td>0.000000</td>\n",
       "      <td>145.000000</td>\n",
       "    </tr>\n",
       "    <tr>\n",
       "      <td>max</td>\n",
       "      <td>72918.000000</td>\n",
       "      <td>82.000000</td>\n",
       "      <td>169.000000</td>\n",
       "      <td>6.000000</td>\n",
       "      <td>1.000000</td>\n",
       "      <td>271.740000</td>\n",
       "      <td>97.600000</td>\n",
       "      <td>1.000000</td>\n",
       "      <td>160.000000</td>\n",
       "    </tr>\n",
       "  </tbody>\n",
       "</table>\n",
       "</div>"
      ],
      "text/plain": [
       "                gft          age  hypertension  alcohol_intake  heart_disease  \\\n",
       "count   3000.000000  3000.000000   3000.000000     2942.000000    3000.000000   \n",
       "mean   36247.929667    44.404907    122.075667        1.563222       0.064333   \n",
       "std    21108.583152    22.703023     17.922770        1.222833       0.245387   \n",
       "min       77.000000     0.080000     13.000000        0.000000       0.000000   \n",
       "25%    17386.250000    26.000000    113.000000        1.000000       0.000000   \n",
       "50%    36346.500000    47.000000    124.000000        1.000000       0.000000   \n",
       "75%    54543.250000    62.000000    135.000000        2.000000       0.000000   \n",
       "max    72918.000000    82.000000    169.000000        6.000000       1.000000   \n",
       "\n",
       "       avg_glucose_level          bmi       stroke  systotic bp  \n",
       "count        3000.000000  2861.000000  3000.000000   100.000000  \n",
       "mean          108.026173    29.102656     0.083000   133.940000  \n",
       "std            46.588268     7.925436     0.275928    11.871211  \n",
       "min            55.220000    10.300000     0.000000   111.000000  \n",
       "25%            77.802500    23.600000     0.000000   125.000000  \n",
       "50%            93.045000    28.200000     0.000000   134.500000  \n",
       "75%           116.055000    33.300000     0.000000   145.000000  \n",
       "max           271.740000    97.600000     1.000000   160.000000  "
      ]
     },
     "execution_count": 6,
     "metadata": {},
     "output_type": "execute_result"
    }
   ],
   "source": [
    "data.describe()\n"
   ]
  },
  {
   "cell_type": "code",
   "execution_count": 7,
   "metadata": {},
   "outputs": [
    {
     "name": "stdout",
     "output_type": "stream",
     "text": [
      "gft                   0.000000\n",
      "gender                0.000000\n",
      "age                   0.000000\n",
      "hypertension          0.000000\n",
      "alcohol_intake        1.933333\n",
      "heart_disease         0.000000\n",
      "ever_married          0.000000\n",
      "work_type             0.000000\n",
      "Residence_type        0.000000\n",
      "avg_glucose_level     0.000000\n",
      "bmi                   4.633333\n",
      "smoking_status        0.000000\n",
      "stroke                0.000000\n",
      "systotic bp          96.666667\n",
      "dtype: float64\n",
      "# Missing values in variable bmi\t\t: 4.63%\n",
      "# Missing values in variable smoking_status\t: 0.00%\n",
      "Data shape: (3000, 14)\n"
     ]
    }
   ],
   "source": [
    "miss_val = data.isnull().sum()/len(data)*100\n",
    "print(miss_val)\n",
    "print(\"# Missing values in variable bmi\\t\\t: {:.2f}%\".format(miss_val['bmi']))\n",
    "print(\"# Missing values in variable smoking_status\\t: {:.2f}%\".format(miss_val['smoking_status']))\n",
    "print(\"Data shape: {}\".format(data.shape))"
   ]
  },
  {
   "cell_type": "code",
   "execution_count": 8,
   "metadata": {},
   "outputs": [
    {
     "name": "stdout",
     "output_type": "stream",
     "text": [
      "gender               0.0\n",
      "age                  0.0\n",
      "hypertension         0.0\n",
      "alcohol_intake       0.0\n",
      "heart_disease        0.0\n",
      "avg_glucose_level    0.0\n",
      "bmi                  0.0\n",
      "smoking_status       0.0\n",
      "stroke               0.0\n",
      "dtype: float64\n",
      "# Missing values in variable 'bmi'\t\t: 0.0\n",
      "# Missing values in variable 'smoking_status'\t: 0.0\n",
      "Shape of data without missing values: (3000, 9)\n"
     ]
    }
   ],
   "source": [
    "# Safely disable new warning with the chained assignment.\n",
    "pd.options.mode.chained_assignment = None  # default='warn'\n",
    "# replace missing values in variable 'bmi' with its mean\n",
    "data['bmi']=data['bmi'].fillna(data['bmi'].mean())\n",
    "data['alcohol_intake']=data['alcohol_intake'].fillna(data['alcohol_intake'].mean())\n",
    "# remove (drop) data associated with missing values in variable 'smoking_status'\n",
    "clean_data = data[data['smoking_status'].notnull()]\n",
    "# drop variable 'id'\n",
    "clean_data.drop(columns='gft',axis=1,inplace=True)\n",
    "clean_data.drop(columns='systotic bp',axis=1,inplace=True)\n",
    "clean_data.drop(columns='work_type',axis=1,inplace=True)\n",
    "clean_data.drop(columns='ever_married',axis=1,inplace=True)\n",
    "clean_data.drop(columns='Residence_type',axis=1,inplace=True)\n",
    "# validate there's no more missing values\n",
    "miss_val = clean_data.isnull().sum()/len(clean_data)*100\n",
    "print(miss_val)\n",
    "print(\"# Missing values in variable 'bmi'\\t\\t: {}\".format(miss_val['bmi']))\n",
    "print(\"# Missing values in variable 'smoking_status'\\t: {}\".format(miss_val['smoking_status']))\n",
    "print(\"Shape of data without missing values: {}\".format(clean_data.shape))"
   ]
  },
  {
   "cell_type": "code",
   "execution_count": 9,
   "metadata": {},
   "outputs": [
    {
     "name": "stdout",
     "output_type": "stream",
     "text": [
      "Unique 'gender': ['Male' 'Female']\n",
      "Unique 'smoking_status': ['formerly smoked' 'never smoked' 'smokes' 'Unknown']\n"
     ]
    }
   ],
   "source": [
    "#Changing Category to Numerical Values\n",
    "#Since some variables are categorical, we have to convert them into numerical variables.\n",
    "print(\"Unique 'gender': {}\".format(clean_data['gender'].unique()))\n",
    "#print(\"Unique 'ever_married': {}\".format(clean_data['ever_married'].unique()))\n",
    "#print(\"Unique 'work_type': {}\".format(clean_data['work_type'].unique()))\n",
    "#print(\"Unique 'Residence_type': {}\".format(clean_data['Residence_type'].unique()))\n",
    "print(\"Unique 'smoking_status': {}\".format(clean_data['smoking_status'].unique()))"
   ]
  },
  {
   "cell_type": "code",
   "execution_count": 10,
   "metadata": {},
   "outputs": [],
   "source": [
    "# create encoder for each categorical variable\n",
    "label_gender = LabelEncoder()\n",
    "label_married = LabelEncoder()\n",
    "label_work = LabelEncoder()\n",
    "label_residence = LabelEncoder()\n",
    "label_smoking = LabelEncoder()\n"
   ]
  },
  {
   "cell_type": "code",
   "execution_count": 11,
   "metadata": {},
   "outputs": [
    {
     "name": "stdout",
     "output_type": "stream",
     "text": [
      "   gender   age  hypertension  alcohol_intake  heart_disease  avg_glucose_level        bmi  smoking_status  stroke\n",
      "0       1  67.0           147             2.0              1             228.69  36.600000               1       1\n",
      "1       0  61.0           135             4.0              0             202.21  29.102656               2       1\n",
      "2       1  80.0           115             3.0              1             105.92  32.500000               2       1\n",
      "3       0  49.0           125             2.0              0             171.23  34.400000               3       1\n",
      "4       0  79.0           130             3.0              0             174.12  24.000000               2       1\n"
     ]
    }
   ],
   "source": [
    "clean_data['gender'] = label_gender.fit_transform(clean_data['gender'])\n",
    "#clean_data['ever_married'] = label_married.fit_transform(clean_data['ever_married'])\n",
    "#clean_data['work_type']= label_work.fit_transform(clean_data['work_type'])\n",
    "#clean_data['Residence_type']= label_residence.fit_transform(clean_data['Residence_type'])\n",
    "clean_data['smoking_status']= label_smoking.fit_transform(clean_data['smoking_status'])\n",
    "with pd.option_context('expand_frame_repr', False):\n",
    "    print(clean_data.head())"
   ]
  },
  {
   "cell_type": "code",
   "execution_count": 12,
   "metadata": {},
   "outputs": [
    {
     "data": {
      "image/png": "[encoded data removed]",
      "text/plain": [
       "<Figure size 576x432 with 2 Axes>"
      ]
     },
     "metadata": {
      "needs_background": "light"
     },
     "output_type": "display_data"
    }
   ],
   "source": [
    "fig, ax = plt.subplots(figsize=(8,6))\n",
    "im = ax.matshow(clean_data.corr())\n",
    "ax.set_xticks(np.arange(clean_data.shape[1]))\n",
    "ax.set_yticks(np.arange(clean_data.shape[1]))\n",
    "ax.set_xticklabels(clean_data.columns,rotation=90)\n",
    "ax.set_yticklabels(clean_data.columns)\n",
    "# Create colorbar\n",
    "cbar = ax.figure.colorbar(im, ax=ax)\n",
    "cbar.ax.set_ylabel(\"Correlation\", rotation=-90, va=\"bottom\", fontsize=12)\n",
    "fig.tight_layout()\n",
    "plt.show()"
   ]
  },
  {
   "cell_type": "code",
   "execution_count": 13,
   "metadata": {},
   "outputs": [
    {
     "name": "stderr",
     "output_type": "stream",
     "text": [
      "C:\\Users\\emmy1\\Anaconda3\\lib\\site-packages\\pandas\\plotting\\_matplotlib\\tools.py:307: MatplotlibDeprecationWarning: \n",
      "The rowNum attribute was deprecated in Matplotlib 3.2 and will be removed two minor releases later. Use ax.get_subplotspec().rowspan.start instead.\n",
      "  layout[ax.rowNum, ax.colNum] = ax.get_visible()\n",
      "C:\\Users\\emmy1\\Anaconda3\\lib\\site-packages\\pandas\\plotting\\_matplotlib\\tools.py:307: MatplotlibDeprecationWarning: \n",
      "The colNum attribute was deprecated in Matplotlib 3.2 and will be removed two minor releases later. Use ax.get_subplotspec().colspan.start instead.\n",
      "  layout[ax.rowNum, ax.colNum] = ax.get_visible()\n",
      "C:\\Users\\emmy1\\Anaconda3\\lib\\site-packages\\pandas\\plotting\\_matplotlib\\tools.py:313: MatplotlibDeprecationWarning: \n",
      "The rowNum attribute was deprecated in Matplotlib 3.2 and will be removed two minor releases later. Use ax.get_subplotspec().rowspan.start instead.\n",
      "  if not layout[ax.rowNum + 1, ax.colNum]:\n",
      "C:\\Users\\emmy1\\Anaconda3\\lib\\site-packages\\pandas\\plotting\\_matplotlib\\tools.py:313: MatplotlibDeprecationWarning: \n",
      "The colNum attribute was deprecated in Matplotlib 3.2 and will be removed two minor releases later. Use ax.get_subplotspec().colspan.start instead.\n",
      "  if not layout[ax.rowNum + 1, ax.colNum]:\n"
     ]
    },
    {
     "data": {
      "image/png": "[encoded data removed]",
      "text/plain": [
       "<Figure size 720x576 with 9 Axes>"
      ]
     },
     "metadata": {
      "needs_background": "light"
     },
     "output_type": "display_data"
    }
   ],
   "source": [
    "fig = clean_data.hist(figsize=(10,8))\n",
    "plt.tight_layout()\n",
    "plt.show()"
   ]
  },
  {
   "cell_type": "code",
   "execution_count": 14,
   "metadata": {},
   "outputs": [
    {
     "data": {
      "image/png": "[encoded data removed]",
      "text/plain": [
       "<Figure size 432x288 with 1 Axes>"
      ]
     },
     "metadata": {},
     "output_type": "display_data"
    },
    {
     "name": "stdout",
     "output_type": "stream",
     "text": [
      "# samples associated with no stroke: 2751\n",
      "# samples associated with stroke: 249\n"
     ]
    }
   ],
   "source": [
    "class_occur = clean_data['stroke'].value_counts()\n",
    "class_names = ['No Stroke','Stroke']\n",
    "fig, ax = plt.subplots()\n",
    "ax.pie(class_occur, labels=class_names, autopct='%1.2f%%',\n",
    "        shadow=True, startangle=0, counterclock=False)\n",
    "ax.axis('equal')  # Equal aspect ratio ensures that pie is drawn as a circle.\n",
    "ax.set_title('Class distribution')\n",
    "plt.show()\n",
    "print(\"# samples associated with no stroke: {}\".format(class_occur[0]))\n",
    "print(\"# samples associated with stroke: {}\".format(class_occur[1]))"
   ]
  },
  {
   "cell_type": "code",
   "execution_count": 15,
   "metadata": {},
   "outputs": [
    {
     "name": "stdout",
     "output_type": "stream",
     "text": [
      "Shape of X: (5502, 8)\n",
      "Shape of y: (5502,)\n"
     ]
    }
   ],
   "source": [
    "# create the  object with the desired sampling strategy.\n",
    "smote = SMOTE(sampling_strategy='minority')\n",
    "\n",
    "# fit the object to our training data\n",
    "X, y = smote.fit_sample(clean_data.loc[:,clean_data.columns!='stroke'], clean_data['stroke'])\n",
    "print(\"Shape of X: {}\".format(X.shape))\n",
    "print(\"Shape of y: {}\".format(y.shape))"
   ]
  },
  {
   "cell_type": "code",
   "execution_count": 16,
   "metadata": {},
   "outputs": [
    {
     "data": {
      "image/png": "[encoded data removed]",
      "text/plain": [
       "<Figure size 432x288 with 1 Axes>"
      ]
     },
     "metadata": {},
     "output_type": "display_data"
    },
    {
     "name": "stdout",
     "output_type": "stream",
     "text": [
      "# samples associated with no stroke: 2751\n",
      "# samples associated with stroke: 2751\n"
     ]
    }
   ],
   "source": [
    "_, class_counts = np.unique(y, return_counts=True)\n",
    "class_names = ['No stroke', 'Stroke']\n",
    "fig, ax = plt.subplots()\n",
    "ax.pie(class_counts, labels=class_names, autopct='%1.2f%%',\n",
    "        shadow=True, startangle=90, counterclock=False)\n",
    "ax.axis('equal')  # Equal aspect ratio ensures that pie is drawn as a circle.\n",
    "ax.set_title('Class distribution')\n",
    "plt.show()\n",
    "print(\"# samples associated with no stroke: {}\".format(class_counts[0]))\n",
    "print(\"# samples associated with stroke: {}\".format(class_counts[1]))"
   ]
  },
  {
   "cell_type": "code",
   "execution_count": 17,
   "metadata": {},
   "outputs": [
    {
     "name": "stdout",
     "output_type": "stream",
     "text": [
      "[train] # class 0: 2200 | # class 1: 2200\n",
      "[valid] # class 0: 275 | # class 1: 276\n",
      "[test]  # class 0: 276 | # class 1: 275\n"
     ]
    }
   ],
   "source": [
    "def split_train_valid_test(X,y,test_size=0.1,random_state=None):\n",
    "    X_train, X_test, y_train, y_test = train_test_split(X,y,test_size=test_size, random_state=random_state, stratify=y)\n",
    "    X_train, X_valid, y_train, y_valid = train_test_split(X_train,y_train,test_size=test_size/(1-test_size), random_state=random_state, stratify=y_train)\n",
    "    return X_train, X_valid, X_test, y_train, y_valid, y_test\n",
    "\n",
    "X_train, X_valid, X_test, y_train, y_valid, y_test = split_train_valid_test(X,y,test_size=0.1,random_state=42)\n",
    "_, train_counts = np.unique(y_train, return_counts=True)\n",
    "_, valid_counts = np.unique(y_valid, return_counts=True)\n",
    "_, test_counts = np.unique(y_test, return_counts=True)\n",
    "print(\"[train] # class 0: {} | # class 1: {}\".format(train_counts[0],train_counts[1]))\n",
    "print(\"[valid] # class 0: {} | # class 1: {}\".format(valid_counts[0],valid_counts[1]))\n",
    "print(\"[test]  # class 0: {} | # class 1: {}\".format(test_counts[0],test_counts[1]))"
   ]
  },
  {
   "cell_type": "code",
   "execution_count": null,
   "metadata": {},
   "outputs": [],
   "source": []
  },
  {
   "cell_type": "code",
   "execution_count": null,
   "metadata": {},
   "outputs": [],
   "source": []
  },
  {
   "cell_type": "code",
   "execution_count": null,
   "metadata": {},
   "outputs": [],
   "source": []
  },
  {
   "cell_type": "code",
   "execution_count": null,
   "metadata": {},
   "outputs": [],
   "source": []
  },
  {
   "cell_type": "code",
   "execution_count": null,
   "metadata": {},
   "outputs": [],
   "source": []
  },
  {
   "cell_type": "code",
   "execution_count": null,
   "metadata": {},
   "outputs": [],
   "source": []
  },
  {
   "cell_type": "code",
   "execution_count": null,
   "metadata": {},
   "outputs": [],
   "source": []
  },
  {
   "cell_type": "code",
   "execution_count": null,
   "metadata": {},
   "outputs": [],
   "source": []
  },
  {
   "cell_type": "code",
   "execution_count": null,
   "metadata": {},
   "outputs": [],
   "source": []
  },
  {
   "cell_type": "code",
   "execution_count": null,
   "metadata": {},
   "outputs": [],
   "source": []
  },
  {
   "cell_type": "code",
   "execution_count": null,
   "metadata": {},
   "outputs": [],
   "source": []
  },
  {
   "cell_type": "code",
   "execution_count": null,
   "metadata": {},
   "outputs": [],
   "source": []
  },
  {
   "cell_type": "code",
   "execution_count": null,
   "metadata": {},
   "outputs": [],
   "source": []
  },
  {
   "cell_type": "code",
   "execution_count": 18,
   "metadata": {},
   "outputs": [],
   "source": [
    "scaler = StandardScaler()\n",
    "scaler = scaler.fit(X_train)\n",
    "\n",
    "X_train_std = scaler.transform(X_train)\n",
    "X_valid_std = scaler.transform(X_valid)\n",
    "X_test_std = scaler.transform(X_test)"
   ]
  },
  {
   "cell_type": "code",
   "execution_count": 19,
   "metadata": {},
   "outputs": [],
   "source": [
    "def calc_sens_spec(y_true,y_pred):\n",
    "    conf_matrix = confusion_matrix(y_true,y_pred)\n",
    "    TP = conf_matrix[1][1]\n",
    "    TN = conf_matrix[0][0]\n",
    "    FP = conf_matrix[0][1]\n",
    "    FN = conf_matrix[1][0]\n",
    "    # calculate the sensitivity\n",
    "    sensitivity = TP / (TP + FN)    \n",
    "    # calculate the specificity\n",
    "    specificity = TN / (TN + FP)\n",
    "    return sensitivity,specificity"
   ]
  },
  {
   "cell_type": "code",
   "execution_count": 20,
   "metadata": {},
   "outputs": [],
   "source": [
    "\n",
    "ranfor_model = RandomForestClassifier(n_estimators=100, random_state=42)\n",
    "ranfor_model.fit(X_train_std, y_train)\n",
    "#end = timer.time()\n",
    "#print(\"Finished training within {:.2f} seconds\".format(end-start))\n",
    "# Predicting the test set results\n",
    "y_ranfor = ranfor_model.predict(X_test_std)\n",
    "y_ranfor_prob = ranfor_model.predict_proba(X_test_std)\n",
    "\n"
   ]
  },
  {
   "cell_type": "code",
   "execution_count": 21,
   "metadata": {},
   "outputs": [
    {
     "name": "stdout",
     "output_type": "stream",
     "text": [
      "Classification report for RF: \n",
      "              precision    recall  f1-score   support\n",
      "\n",
      "           0       0.98      0.97      0.98       276\n",
      "           1       0.97      0.98      0.98       275\n",
      "\n",
      "    accuracy                           0.98       551\n",
      "   macro avg       0.98      0.98      0.98       551\n",
      "weighted avg       0.98      0.98      0.98       551\n",
      "\n",
      "Confusion matrix for RF: \n",
      "[[269   7]\n",
      " [  5 270]]\n",
      "Accuracy score for RF: 0.98\n",
      "Precision score for RF: 0.97\n",
      "Recall score for RF: 0.98\n",
      "F1 score for RF: 0.98\n",
      "Sensitivity score for RF: 0.98\n",
      "Specitivity score for RF: 0.97\n",
      "AUC score for RF: 0.99\n"
     ]
    },
    {
     "data": {
      "image/png": "[encoded data removed]",
      "text/plain": [
       "<Figure size 432x288 with 1 Axes>"
      ]
     },
     "metadata": {
      "needs_background": "light"
     },
     "output_type": "display_data"
    }
   ],
   "source": [
    "print(\"Classification report for RF: \\n{}\".format(classification_report(y_test,y_ranfor)))\n",
    "print(\"Confusion matrix for RF: \\n{}\".format(confusion_matrix(y_test,y_ranfor)))\n",
    "print(\"Accuracy score for RF: {:.2f}\".format(accuracy_score(y_test,y_ranfor)))\n",
    "# calculate precision, recall, and f1 scores\n",
    "prec_ranfor = precision_score(y_test,y_ranfor)\n",
    "rec_ranfor = recall_score(y_test,y_ranfor)\n",
    "f1_ranfor = f1_score(y_test,y_ranfor)\n",
    "print(\"Precision score for RF: {:.2f}\".format(prec_ranfor))\n",
    "print(\"Recall score for RF: {:.2f}\".format(rec_ranfor))\n",
    "print(\"F1 score for RF: {:.2f}\".format(f1_ranfor))\n",
    "# calculate sensitivity, specificity, and auc\n",
    "sens_ranfor,spec_ranfor = calc_sens_spec(y_test,y_ranfor)\n",
    "fpr, tpr, _ = roc_curve(y_test,  y_ranfor_prob[:,1])\n",
    "auc_ranfor = roc_auc_score(y_test, y_ranfor_prob[:,1])\n",
    "print(\"Sensitivity score for RF: {:.2f}\".format(sens_ranfor))\n",
    "print(\"Specitivity score for RF: {:.2f}\".format(spec_ranfor))\n",
    "print(\"AUC score for RF: {:.2f}\".format(auc_ranfor))\n",
    "fig, ax = plt.subplots()\n",
    "ax.plot(fpr, tpr, color='blue', label='ROC curve (area = %0.2f)' % auc_ranfor)\n",
    "ax.plot([0, 1], [0, 1], color='green', linestyle='--')\n",
    "ax.set_xlim([-0.05, 1.0])\n",
    "ax.set_ylim([0.0, 1.05])\n",
    "ax.set_xlabel('False Positive Rate')\n",
    "ax.set_ylabel('True Positive Rate')\n",
    "ax.set_title('Receiver Operating Characteristic (RF)')\n",
    "ax.legend(loc=\"lower right\")\n",
    "plt.show()"
   ]
  },
  {
   "cell_type": "code",
   "execution_count": 22,
   "metadata": {},
   "outputs": [
    {
     "name": "stderr",
     "output_type": "stream",
     "text": [
      "C:\\Users\\emmy1\\Anaconda3\\lib\\site-packages\\xgboost\\sklearn.py:888: UserWarning: The use of label encoder in XGBClassifier is deprecated and will be removed in a future release. To remove this warning, do the following: 1) Pass option use_label_encoder=False when constructing XGBClassifier object; and 2) Encode your labels (y) as integers starting with 0, i.e. 0, 1, 2, ..., [num_class - 1].\n",
      "  warnings.warn(label_encoder_deprecation_msg, UserWarning)\n"
     ]
    },
    {
     "name": "stdout",
     "output_type": "stream",
     "text": [
      "[18:32:44] WARNING: C:/Users/Administrator/workspace/xgboost-win64_release_1.3.0/src/learner.cc:1061: Starting in XGBoost 1.3.0, the default evaluation metric used with the objective 'binary:logistic' was changed from 'error' to 'logloss'. Explicitly set eval_metric if you'd like to restore the old behavior.\n"
     ]
    }
   ],
   "source": [
    "#start = timer.time()\n",
    "import xgboost as f\n",
    "xgb_model = f.XGBClassifier(objective=\"binary:logistic\", random_state=42)\n",
    "xgb_model.fit(X_train_std, y_train)\n",
    "#end = timer.time()\n",
    "#print(\"Finished training within {:.2f} seconds\".format(end-start))\n",
    "# Predicting the test set results\n",
    "y_xgb = xgb_model.predict(X_test_std)\n",
    "y_xgb_prob = xgb_model.predict_proba(X_test_std)\n",
    "\n"
   ]
  },
  {
   "cell_type": "code",
   "execution_count": 23,
   "metadata": {},
   "outputs": [
    {
     "name": "stdout",
     "output_type": "stream",
     "text": [
      "Classification report for XGB: \n",
      "              precision    recall  f1-score   support\n",
      "\n",
      "           0       0.98      0.96      0.97       276\n",
      "           1       0.96      0.98      0.97       275\n",
      "\n",
      "    accuracy                           0.97       551\n",
      "   macro avg       0.97      0.97      0.97       551\n",
      "weighted avg       0.97      0.97      0.97       551\n",
      "\n",
      "Confusion matrix for XGB: \n",
      "[[266  10]\n",
      " [  5 270]]\n",
      "Accuracy score for XGB: 0.97\n",
      "Precision score for XGB: 0.96\n",
      "Recall score for XGB: 0.98\n",
      "F1 score for XGB: 0.97\n",
      "Sensitivity score for XGB: 0.98\n",
      "Specitivity score for XGB: 0.96\n",
      "AUC score for XGB: 1.00\n"
     ]
    },
    {
     "data": {
      "image/png": "[encoded data removed]",
      "text/plain": [
       "<Figure size 432x288 with 1 Axes>"
      ]
     },
     "metadata": {
      "needs_background": "light"
     },
     "output_type": "display_data"
    }
   ],
   "source": [
    "print(\"Classification report for XGB: \\n{}\".format(classification_report(y_test,y_xgb)))\n",
    "print(\"Confusion matrix for XGB: \\n{}\".format(confusion_matrix(y_test,y_xgb)))\n",
    "print(\"Accuracy score for XGB: {:.2f}\".format(accuracy_score(y_test,y_xgb)))\n",
    "# calculate precision, recall, and f1 scores\n",
    "prec_xgb = precision_score(y_test,y_xgb)\n",
    "rec_xgb = recall_score(y_test,y_xgb)\n",
    "f1_xgb = f1_score(y_test,y_xgb)\n",
    "print(\"Precision score for XGB: {:.2f}\".format(prec_xgb))\n",
    "print(\"Recall score for XGB: {:.2f}\".format(rec_xgb))\n",
    "print(\"F1 score for XGB: {:.2f}\".format(f1_xgb))\n",
    "# calculate sensitivity, specificity, and auc\n",
    "sens_xgb,spec_xgb = calc_sens_spec(y_test,y_xgb)\n",
    "fpr, tpr, _ = roc_curve(y_test,  y_xgb_prob[:,1])\n",
    "auc_xgb = roc_auc_score(y_test, y_xgb_prob[:,1])\n",
    "print(\"Sensitivity score for XGB: {:.2f}\".format(sens_xgb))\n",
    "print(\"Specitivity score for XGB: {:.2f}\".format(spec_xgb))\n",
    "print(\"AUC score for XGB: {:.2f}\".format(auc_xgb))\n",
    "fig, ax = plt.subplots()\n",
    "ax.plot(fpr, tpr, color='blue', label='ROC curve (area = %0.2f)' % auc_xgb)\n",
    "ax.plot([0, 1], [0, 1], color='green', linestyle='--')\n",
    "ax.set_xlim([-0.05, 1.0])\n",
    "ax.set_ylim([0.0, 1.05])\n",
    "ax.set_xlabel('False Positive Rate')\n",
    "ax.set_ylabel('True Positive Rate')\n",
    "ax.set_title('Receiver Operating Characteristic (XGB)')\n",
    "ax.legend(loc=\"lower right\")\n",
    "plt.show()"
   ]
  },
  {
   "cell_type": "code",
   "execution_count": 24,
   "metadata": {},
   "outputs": [
    {
     "data": {
      "image/png": "[encoded data removed]",
      "text/plain": [
       "<Figure size 1152x360 with 4 Axes>"
      ]
     },
     "metadata": {
      "needs_background": "light"
     },
     "output_type": "display_data"
    }
   ],
   "source": [
    "# feature importance from random forest\n",
    "\n",
    "feature_names = clean_data.columns[:-1].to_numpy()\n",
    "ranfor_perm_imp = permutation_importance(ranfor_model, X_test_std, y_test, n_repeats=10, random_state=42)\n",
    "ranfor_perm_sort_idx = ranfor_perm_imp.importances_mean.argsort()\n",
    "\n",
    "ranfor_tree_sort_idx = np.argsort(ranfor_model.feature_importances_)\n",
    "ranfor_indices = np.arange(0, len(ranfor_model.feature_importances_)) + 0.5\n",
    "\n",
    "fig, (ax1, ax2, ax3, ax4) = plt.subplots(1, 4, figsize=(16, 5))\n",
    "ax1.barh(ranfor_indices,ranfor_model.feature_importances_[ranfor_tree_sort_idx], height=0.7)\n",
    "ax1.tick_params(axis='both', which='major', labelsize=12)\n",
    "ax1.set_xlabel(\"Importance Score\\n(b)\",fontsize=14)\n",
    "ax1.set_ylabel(\"Feature Name\",fontsize=14)\n",
    "ax1.set_yticklabels(feature_names[ranfor_tree_sort_idx])\n",
    "ax1.set_yticks(ranfor_indices)\n",
    "ax1.set_ylim((0, len(ranfor_model.feature_importances_)))\n",
    "ax2.boxplot(ranfor_perm_imp.importances[ranfor_perm_sort_idx].T,vert=False,labels=feature_names[ranfor_perm_sort_idx])\n",
    "ax2.tick_params(axis='both', which='major', labelsize=12)\n",
    "ax2.set_xlabel(\"Importance Score\\n(b)\",fontsize=14)\n",
    "\n",
    "# feature importance from XGBoost\n",
    "xgb_perm_imp =permutation_importance(xgb_model, X_test_std, y_test, n_repeats=10, random_state=42)\n",
    "xgb_perm_sort_idx = xgb_perm_imp.importances_mean.argsort()\n",
    "\n",
    "xgb_tree_sort_idx = np.argsort(xgb_model.feature_importances_)\n",
    "xgb_indices = np.arange(0, len(xgb_model.feature_importances_)) + 0.5\n",
    "\n",
    "ax3.barh(xgb_indices,xgb_model.feature_importances_[xgb_tree_sort_idx], height=0.7)\n",
    "ax3.tick_params(axis='both', which='major', labelsize=12)\n",
    "ax3.set_xlabel(\"Importance Score\\n(c)\",fontsize=14)\n",
    "ax3.set_yticklabels(feature_names[xgb_tree_sort_idx])\n",
    "ax3.set_yticks(xgb_indices)\n",
    "ax3.set_ylim((0, len(xgb_model.feature_importances_)))\n",
    "ax4.boxplot(xgb_perm_imp.importances[xgb_perm_sort_idx].T,vert=False,labels=feature_names[xgb_perm_sort_idx])\n",
    "ax4.tick_params(axis='both', which='major', labelsize=12)\n",
    "ax4.set_xlabel(\"Importance Score\\n(d)\",fontsize=14)\n",
    "fig.tight_layout()\n",
    "fig.savefig(\"feature_importance.pdf\", bbox_inches='tight')\n",
    "plt.show()"
   ]
  },
  {
   "cell_type": "code",
   "execution_count": null,
   "metadata": {},
   "outputs": [],
   "source": []
  },
  {
   "cell_type": "code",
   "execution_count": 25,
   "metadata": {},
   "outputs": [
    {
     "name": "stdout",
     "output_type": "stream",
     "text": [
      "[[0, 0.82, 70, 0, 0, 77, 16.2, 1]] [1]\n"
     ]
    }
   ],
   "source": [
    "#start = timer.time()\n",
    "dtree_model = DecisionTreeClassifier(random_state=42)\n",
    "dtree_model.fit(X_train_std, y_train)\n",
    "end = timer.time()\n",
    "#print(\"Finished training within {:.2f} seconds\".format(end-start))\n",
    "# Predicting the test set results\n",
    "y_dtree = dtree_model.predict(X_test_std)\n",
    "y_dtree_prob = dtree_model.predict_proba(X_test_std)\n",
    "new_input = [[0,0.82,70,0,0,77,16.2,1]]\n",
    "# get prediction for new input\n",
    "new_output = dtree_model.predict(new_input)\n",
    "# summarize input and output\n",
    "print(new_input, new_output)\n"
   ]
  },
  {
   "cell_type": "code",
   "execution_count": 26,
   "metadata": {},
   "outputs": [
    {
     "name": "stdout",
     "output_type": "stream",
     "text": [
      "Classification report for DT: \n",
      "              precision    recall  f1-score   support\n",
      "\n",
      "           0       0.97      0.95      0.96       276\n",
      "           1       0.95      0.97      0.96       275\n",
      "\n",
      "    accuracy                           0.96       551\n",
      "   macro avg       0.96      0.96      0.96       551\n",
      "weighted avg       0.96      0.96      0.96       551\n",
      "\n",
      "Confusion matrix for DT: \n",
      "[[263  13]\n",
      " [  9 266]]\n",
      "Accuracy score for DT: 0.96\n",
      "Precision score for DT: 0.95\n",
      "Recall score for DT: 0.97\n",
      "F1 score for DT: 0.96\n",
      "Sensitivity score for DT: 0.97\n",
      "Specitivity score for DT: 0.95\n",
      "AUC score for DT: 0.96\n"
     ]
    },
    {
     "data": {
      "image/png": "[encoded data removed]",
      "text/plain": [
       "<Figure size 432x288 with 1 Axes>"
      ]
     },
     "metadata": {
      "needs_background": "light"
     },
     "output_type": "display_data"
    }
   ],
   "source": [
    "print(\"Classification report for DT: \\n{}\".format(classification_report(y_test,y_dtree)))\n",
    "print(\"Confusion matrix for DT: \\n{}\".format(confusion_matrix(y_test,y_dtree)))\n",
    "print(\"Accuracy score for DT: {:.2f}\".format(accuracy_score(y_test,y_dtree)))\n",
    "# calculate precision, recall, and f1 scores\n",
    "prec_dtree = precision_score(y_test,y_dtree)\n",
    "rec_dtree = recall_score(y_test,y_dtree)\n",
    "f1_dtree = f1_score(y_test,y_dtree)\n",
    "print(\"Precision score for DT: {:.2f}\".format(prec_dtree))\n",
    "print(\"Recall score for DT: {:.2f}\".format(rec_dtree))\n",
    "print(\"F1 score for DT: {:.2f}\".format(f1_dtree))\n",
    "# calculate sensitivity, specificity, and auc\n",
    "sens_dtree,spec_dtree = calc_sens_spec(y_test,y_dtree)\n",
    "fpr, tpr, _ = roc_curve(y_test,  y_dtree_prob[:,1])\n",
    "auc_dtree = roc_auc_score(y_test, y_dtree_prob[:,1])\n",
    "print(\"Sensitivity score for DT: {:.2f}\".format(sens_dtree))\n",
    "print(\"Specitivity score for DT: {:.2f}\".format(spec_dtree))\n",
    "print(\"AUC score for DT: {:.2f}\".format(auc_dtree))\n",
    "fig, ax = plt.subplots()\n",
    "ax.plot(fpr, tpr, color='blue', label='ROC curve (area = %0.2f)' % auc_dtree)\n",
    "ax.plot([0, 1], [0, 1], color='green', linestyle='--')\n",
    "ax.set_xlim([-0.05, 1.0])\n",
    "ax.set_ylim([0.0, 1.05])\n",
    "ax.set_xlabel('False Positive Rate')\n",
    "ax.set_ylabel('True Positive Rate')\n",
    "ax.set_title('Receiver Operating Characteristic (DT)')\n",
    "ax.legend(loc=\"lower right\")\n",
    "plt.show()"
   ]
  },
  {
   "cell_type": "code",
   "execution_count": 27,
   "metadata": {},
   "outputs": [
    {
     "name": "stdout",
     "output_type": "stream",
     "text": [
      "[[1, 0, 0, 0, 0, 0, 1, 0]] [0]\n"
     ]
    }
   ],
   "source": [
    "#start = timer.time()\n",
    "logit_model = LogisticRegression(solver='lbfgs', random_state=42)\n",
    "logit_model.fit(X_train_std, y_train)\n",
    "end = timer.time()\n",
    "#print(\"Finished training within {:.2f} seconds\".format(end-start))\n",
    "# Predicting the test set results\n",
    "y_logit = logit_model.predict(X_test_std)\n",
    "y_logit_prob = logit_model.predict_proba(X_test_std)\n",
    "new_input = [[1,0,0,0,0,0,1,0]]\n",
    "# get prediction for new input\n",
    "new_output = logit_model.predict(new_input)\n",
    "# summarize input and output\n",
    "print(new_input, new_output)"
   ]
  },
  {
   "cell_type": "code",
   "execution_count": 28,
   "metadata": {},
   "outputs": [
    {
     "name": "stdout",
     "output_type": "stream",
     "text": [
      "Classification report for LR: \n",
      "              precision    recall  f1-score   support\n",
      "\n",
      "           0       0.82      0.78      0.80       276\n",
      "           1       0.79      0.82      0.81       275\n",
      "\n",
      "    accuracy                           0.80       551\n",
      "   macro avg       0.80      0.80      0.80       551\n",
      "weighted avg       0.80      0.80      0.80       551\n",
      "\n",
      "Confusion matrix for LR: \n",
      "[[216  60]\n",
      " [ 49 226]]\n",
      "Accuracy score for LR: 0.80\n",
      "Precision score for LR: 0.79\n",
      "Recall score for LR: 0.82\n",
      "F1 score for LR: 0.81\n",
      "Sensitivity score for LR: 0.82\n",
      "Specitivity score for LR: 0.78\n",
      "AUC score for LR: 0.88\n"
     ]
    },
    {
     "data": {
      "image/png": "[encoded data removed]",
      "text/plain": [
       "<Figure size 432x288 with 1 Axes>"
      ]
     },
     "metadata": {
      "needs_background": "light"
     },
     "output_type": "display_data"
    }
   ],
   "source": [
    "print(\"Classification report for LR: \\n{}\".format(classification_report(y_test,y_logit)))\n",
    "print(\"Confusion matrix for LR: \\n{}\".format(confusion_matrix(y_test,y_logit)))\n",
    "print(\"Accuracy score for LR: {:.2f}\".format(accuracy_score(y_test,y_logit)))\n",
    "# calculate precision, recall, and f1 scores\n",
    "prec_logit = precision_score(y_test,y_logit)\n",
    "rec_logit = recall_score(y_test,y_logit)\n",
    "f1_logit = f1_score(y_test,y_logit)\n",
    "print(\"Precision score for LR: {:.2f}\".format(prec_logit))\n",
    "print(\"Recall score for LR: {:.2f}\".format(rec_logit))\n",
    "print(\"F1 score for LR: {:.2f}\".format(f1_logit))\n",
    "# calculate sensitivity, specificity, and auc\n",
    "sens_logit,spec_logit = calc_sens_spec(y_test,y_logit)\n",
    "fpr, tpr, _ = roc_curve(y_test,  y_logit_prob[:,1])\n",
    "auc_logit = roc_auc_score(y_test, y_logit_prob[:,1])\n",
    "print(\"Sensitivity score for LR: {:.2f}\".format(sens_logit))\n",
    "print(\"Specitivity score for LR: {:.2f}\".format(spec_logit))\n",
    "print(\"AUC score for LR: {:.2f}\".format(auc_logit))\n",
    "fig, ax = plt.subplots()\n",
    "ax.plot(fpr, tpr, color='blue', label='ROC curve (area = %0.2f)' % auc_logit)\n",
    "ax.plot([0, 1], [0, 1], color='green', linestyle='--')\n",
    "ax.set_xlim([-0.05, 1.0])\n",
    "ax.set_ylim([0.0, 1.05])\n",
    "ax.set_xlabel('False Positive Rate')\n",
    "ax.set_ylabel('True Positive Rate')\n",
    "ax.set_title('Receiver Operating Characteristic (LR)')\n",
    "ax.legend(loc=\"lower right\")\n",
    "plt.show()"
   ]
  },
  {
   "cell_type": "code",
   "execution_count": null,
   "metadata": {},
   "outputs": [],
   "source": [
    "\n",
    "\n"
   ]
  },
  {
   "cell_type": "code",
   "execution_count": null,
   "metadata": {},
   "outputs": [],
   "source": []
  },
  {
   "cell_type": "code",
   "execution_count": null,
   "metadata": {},
   "outputs": [],
   "source": []
  }
 ],
 "metadata": {
  "kernelspec": {
   "display_name": "Python 3",
   "language": "python",
   "name": "python3"
  },
  "language_info": {
   "codemirror_mode": {
    "name": "ipython",
    "version": 3
   },
   "file_extension": ".py",
   "mimetype": "text/x-python",
   "name": "python",
   "nbconvert_exporter": "python",
   "pygments_lexer": "ipython3",
   "version": "3.7.4"
  }
 },
 "nbformat": 4,
 "nbformat_minor": 2
}
